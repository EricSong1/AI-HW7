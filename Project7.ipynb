{
  "nbformat": 4,
  "nbformat_minor": 0,
  "metadata": {
    "colab": {
      "provenance": []
    },
    "kernelspec": {
      "name": "python3",
      "display_name": "Python 3"
    },
    "language_info": {
      "name": "python"
    }
  },
  "cells": [
    {
      "cell_type": "markdown",
      "source": [
        "Reinforcement learning using Q Learning and Open AI Gymnasium"
      ],
      "metadata": {
        "id": "ej9Tx9JRYgC_"
      }
    },
    {
      "cell_type": "markdown",
      "source": [
        "Eric Song"
      ],
      "metadata": {
        "id": "eMaglv8FYwzk"
      }
    },
    {
      "cell_type": "markdown",
      "source": [
        "Documentation for Gymnasium can be found at https://gymnasium.farama.org/index.html. The environment we will be using is the Cart Pole env: https://gymnasium.farama.org/environments/classic_control/cart_pole."
      ],
      "metadata": {
        "id": "NYFsM0FjZw6t"
      }
    },
    {
      "cell_type": "markdown",
      "source": [
        "README: I imagine that students will go on the OpenAI Gymnasium documentation and work through the examples of agent training and Q-learning provided at https://gymnasium.farama.org/introduction/basic_usage and https://gymnasium.farama.org/introduction/train_agent. Afterwards, they will have learned the basics of working with Gymnasium environments and can go to the Cart Pole documentation provided above and go through the assignment and complete all the necessary functions. The results students get should be an increasing rewards graph as episodes get higher. It is hard to render the env on Colab, but if students are working on a local IDE, then they can optionally render their env to see the training happen in real time."
      ],
      "metadata": {
        "id": "hafZJ6cm4tuS"
      }
    },
    {
      "cell_type": "code",
      "execution_count": null,
      "metadata": {
        "id": "C4itBo3JYUjX"
      },
      "outputs": [],
      "source": [
        "%pip install gymnasium"
      ]
    },
    {
      "cell_type": "code",
      "source": [
        "import gymnasium as gym\n",
        "import numpy as np\n",
        "import matplotlib.pyplot as plt"
      ],
      "metadata": {
        "id": "BfbytjH3ZQYU"
      },
      "execution_count": null,
      "outputs": []
    },
    {
      "cell_type": "code",
      "source": [
        "# Create the CartPole environment\n",
        "env = gym.make(\"CartPole-v1\")"
      ],
      "metadata": {
        "id": "_KT3cPMQeh1i"
      },
      "execution_count": null,
      "outputs": []
    },
    {
      "cell_type": "code",
      "source": [
        "def create_bins():\n",
        "    \"\"\"\n",
        "    Discretize the continuous state space\n",
        "    Returns bin edges for each dimension of the state space.\n",
        "    \"\"\"\n",
        "    bins = [\n",
        "        np.linspace(-2.4, 2.4, 10),    # cart position\n",
        "        np.linspace(-4, 4, 10),        # cart velocity\n",
        "        np.linspace(-0.2095, 0.2095, 10),# pole angle\n",
        "        np.linspace(-4, 4, 10)         # pole velocity\n",
        "    ]\n",
        "    return bins"
      ],
      "metadata": {
        "id": "UyjnYSOoemYs"
      },
      "execution_count": null,
      "outputs": []
    },
    {
      "cell_type": "code",
      "source": [
        "def discretize_state(state, bins):\n",
        "    \"\"\"\n",
        "    Discretizes a continuous state into a tuple of bin indices.\n",
        "    \"\"\"\n",
        "    discrete_state = tuple(\n",
        "        int(np.digitize(state[i], bins[i])) for i in range(len(state))\n",
        "    )\n",
        "    return discrete_state"
      ],
      "metadata": {
        "id": "IuaQZRPaewbh"
      },
      "execution_count": null,
      "outputs": []
    },
    {
      "cell_type": "code",
      "source": [
        "def initialize_q_table(bins, n_actions):\n",
        "    \"\"\"Initializes a Q-table with zeros.\"\"\"\n",
        "    sizes = tuple(len(b)+1 for b in bins) + (n_actions,)\n",
        "    return np.zeros(sizes)"
      ],
      "metadata": {
        "id": "Vel00BFuoBj_"
      },
      "execution_count": null,
      "outputs": []
    },
    {
      "cell_type": "code",
      "source": [
        "def choose_action(state, q_table, epsilon, n_actions):\n",
        "    #TODO: implement epsilon greedy action selection policy\n",
        "\n",
        "    # Pseudocode to help you get started:\n",
        "    # If a random number between 0 and 1 is less than epsilon:\n",
        "    # Choose a random action\n",
        "    # Else:\n",
        "    # Choose the action with the highest Q-value for the current state\n",
        "    pass"
      ],
      "metadata": {
        "id": "JwhdE3GZq5SQ"
      },
      "execution_count": null,
      "outputs": []
    },
    {
      "cell_type": "code",
      "source": [
        "def update_q_table(q_table, state, action, reward, next_state, alpha, gamma):\n",
        "    # TODO: update Q table based on action-value function (q-function)\n",
        "\n",
        "    # Pseudocode to help you get started:\n",
        "    # Find the best Q-value for the next state (best_next_action)\n",
        "    # Calculate the target value: reward + discount * next best Q value\n",
        "    # Update the Q-value for the current (state, action) pair towards the target\n",
        "    pass"
      ],
      "metadata": {
        "id": "pj1NYzHvq8qL"
      },
      "execution_count": null,
      "outputs": []
    },
    {
      "cell_type": "code",
      "source": [
        "bins = create_bins()\n",
        "q_table = initialize_q_table(bins, env.action_space.n)"
      ],
      "metadata": {
        "id": "7GNgI2L9e-JQ"
      },
      "execution_count": null,
      "outputs": []
    },
    {
      "cell_type": "code",
      "source": [
        "# Hyperparameters\n",
        "alpha = 0.1           # learning rate\n",
        "gamma = 0.99          # discount factor\n",
        "epsilon = 1.0         # initial exploration rate\n",
        "epsilon_decay = 0.999\n",
        "epsilon_min = 0.001\n",
        "episodes = 5000"
      ],
      "metadata": {
        "id": "MhK0W2MaqzfJ"
      },
      "execution_count": null,
      "outputs": []
    },
    {
      "cell_type": "code",
      "source": [
        "# Train agent\n",
        "def train(env, q_table, bins, episodes, alpha, gamma, epsilon, epsilon_decay, epsilon_min):\n",
        "    rewards = []\n",
        "    for episode in range(episodes):\n",
        "        state, _ = env.reset()\n",
        "        state = discretize_state(state, bins)\n",
        "        total_reward = 0\n",
        "        done = False\n",
        "\n",
        "        while not done and total_reward < 1000:\n",
        "            # TODO: finish train function based on Open AI Gymnasium documentation\n",
        "\n",
        "            # Choose an action using the current state and epsilon-greedy strategy\n",
        "            # Take the action in the environment and observe:\n",
        "            #     - the next state\n",
        "            #     - the reward\n",
        "            #     - whether the episode ended (done)\n",
        "            # Discretize the next state into bins\n",
        "            # Update the Q-table based on (state, action, reward, next state)\n",
        "            # Move to the next state\n",
        "            # Add the reward to the total reward for this episode\n",
        "            pass\n",
        "\n",
        "        # Add the total reward for this episode to the rewards list\n",
        "        # Decrease epsilon (but don't let it go below the minimum value)\n",
        "\n",
        "        if (episode+1) % 500 == 0:\n",
        "            print(f\"Episode {episode+1}, Reward: {total_reward}, Epsilon: {epsilon:.3f}\")\n",
        "\n",
        "    return rewards"
      ],
      "metadata": {
        "id": "ipqMD7nsrA2E"
      },
      "execution_count": null,
      "outputs": []
    },
    {
      "cell_type": "code",
      "source": [
        "rewards = train(env, q_table, bins, episodes, alpha, gamma, epsilon, epsilon_decay, epsilon_min)\n",
        "\n",
        "# Plot results\n",
        "plt.plot(rewards)\n",
        "plt.xlabel('Episode')\n",
        "plt.ylabel('Total Reward')\n",
        "plt.title('Total Rewards per Episode')\n",
        "plt.grid()\n",
        "plt.show()"
      ],
      "metadata": {
        "id": "se2nzswArBlp"
      },
      "execution_count": null,
      "outputs": []
    },
    {
      "cell_type": "code",
      "source": [
        "# Solution\n",
        "\n",
        "# Reinforcement Learning using Q-Learning and OpenAI Gymnasium\n",
        "import gymnasium as gym\n",
        "import numpy as np\n",
        "import matplotlib.pyplot as plt\n",
        "\n",
        "# Create environment\n",
        "env = gym.make(\"CartPole-v1\")\n",
        "\n",
        "# Discretize the continuous state space\n",
        "def create_bins():\n",
        "    bins = [\n",
        "        np.linspace(-2.4, 2.4, 10),    # cart position\n",
        "        np.linspace(-4, 4, 10),        # cart velocity\n",
        "        np.linspace(-0.2095, 0.2095, 10),# pole angle\n",
        "        np.linspace(-4, 4, 10)         # pole velocity\n",
        "    ]\n",
        "    return bins\n",
        "\n",
        "def discretize_state(state, bins):\n",
        "    return tuple(np.digitize(s, b) for s, b in zip(state, bins))\n",
        "\n",
        "# Initialize Q-table\n",
        "def initialize_q_table(bins, n_actions):\n",
        "    sizes = tuple(len(b)+1 for b in bins) + (n_actions,)\n",
        "    return np.zeros(sizes)\n",
        "\n",
        "bins = create_bins()\n",
        "q_table = initialize_q_table(bins, env.action_space.n)\n",
        "\n",
        "# Hyperparameters\n",
        "alpha = 0.1           # learning rate\n",
        "gamma = 0.99          # discount factor\n",
        "epsilon = 1.0         # initial exploration rate\n",
        "epsilon_decay = 0.999\n",
        "epsilon_min = 0.001\n",
        "episodes = 5000\n",
        "\n",
        "# Choose action based on epsilon greedy\n",
        "def choose_action(state, q_table, epsilon, n_actions):\n",
        "    if np.random.random() < epsilon:\n",
        "        return np.random.randint(n_actions)\n",
        "    else:\n",
        "        return np.argmax(q_table[state])\n",
        "\n",
        "# Update Q-table using Q function\n",
        "def update_q_table(q_table, state, action, reward, next_state, alpha, gamma):\n",
        "    best_next_action = np.max(q_table[next_state])\n",
        "    target = reward + gamma * best_next_action\n",
        "    q_table[state + (action,)] += alpha * (target - q_table[state + (action,)])\n",
        "    return q_table\n",
        "\n",
        "# Train agent\n",
        "def train(env, q_table, bins, episodes, alpha, gamma, epsilon, epsilon_decay, epsilon_min):\n",
        "    rewards = []\n",
        "    for episode in range(episodes):\n",
        "        state, _ = env.reset()\n",
        "        state = discretize_state(state, bins)\n",
        "        total_reward = 0\n",
        "        done = False\n",
        "\n",
        "        while not done and total_reward < 1000:\n",
        "            action = choose_action(state, q_table, epsilon, env.action_space.n)\n",
        "            next_state, reward, terminated, truncated, _ = env.step(action)\n",
        "            done = terminated or truncated\n",
        "            next_state = discretize_state(next_state, bins)\n",
        "\n",
        "            q_table = update_q_table(q_table, state, action, reward, next_state, alpha, gamma)\n",
        "            state = next_state\n",
        "            total_reward += reward\n",
        "\n",
        "        rewards.append(total_reward)\n",
        "        epsilon = max(epsilon * epsilon_decay, epsilon_min)\n",
        "\n",
        "        if (episode+1) % 500 == 0:\n",
        "            print(f\"Episode {episode+1}, Reward: {total_reward}, Epsilon: {epsilon:.3f}\")\n",
        "\n",
        "    return rewards\n",
        "\n",
        "rewards = train(env, q_table, bins, episodes, alpha, gamma, epsilon, epsilon_decay, epsilon_min)\n",
        "\n",
        "# Plot results\n",
        "plt.plot(rewards)\n",
        "plt.xlabel('Episode')\n",
        "plt.ylabel('Total Reward')\n",
        "plt.title('Total Rewards per Episode')\n",
        "plt.grid()\n",
        "plt.show()"
      ],
      "metadata": {
        "colab": {
          "base_uri": "https://localhost:8080/",
          "height": 651
        },
        "id": "Gx_5JqCHe-_C",
        "outputId": "434d87cd-764f-45b5-dbde-fbf390b960f7"
      },
      "execution_count": null,
      "outputs": [
        {
          "output_type": "stream",
          "name": "stdout",
          "text": [
            "Episode 500, Reward: 18.0, Epsilon: 0.606\n",
            "Episode 1000, Reward: 16.0, Epsilon: 0.368\n",
            "Episode 1500, Reward: 147.0, Epsilon: 0.223\n",
            "Episode 2000, Reward: 137.0, Epsilon: 0.135\n",
            "Episode 2500, Reward: 123.0, Epsilon: 0.082\n",
            "Episode 3000, Reward: 209.0, Epsilon: 0.050\n",
            "Episode 3500, Reward: 186.0, Epsilon: 0.030\n",
            "Episode 4000, Reward: 151.0, Epsilon: 0.018\n",
            "Episode 4500, Reward: 136.0, Epsilon: 0.011\n",
            "Episode 5000, Reward: 218.0, Epsilon: 0.007\n"
          ]
        },
        {
          "output_type": "display_data",
          "data": {
            "text/plain": [
              "<Figure size 640x480 with 1 Axes>"
            ],
            "image/png": "[encoded data removed]"
          },
          "metadata": {}
        }
      ]
    }
  ]
}